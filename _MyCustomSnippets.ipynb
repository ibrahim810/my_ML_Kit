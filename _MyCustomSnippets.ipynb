{
  "nbformat": 4,
  "nbformat_minor": 0,
  "metadata": {
    "colab": {
      "name": "_MyCustomSnippets.ipynb",
      "provenance": [],
      "authorship_tag": "ABX9TyMeTfn0JU9kMb4lb97whcNS",
      "include_colab_link": true
    },
    "kernelspec": {
      "name": "python3",
      "display_name": "Python 3"
    },
    "language_info": {
      "name": "python"
    }
  },
  "cells": [
    {
      "cell_type": "markdown",
      "metadata": {
        "id": "view-in-github",
        "colab_type": "text"
      },
      "source": [
        "<a href=\"https://colab.research.google.com/github/ibrahim810/my_ML_Kit/blob/main/_MyCustomSnippets.ipynb\" target=\"_parent\"><img src=\"https://colab.research.google.com/assets/colab-badge.svg\" alt=\"Open In Colab\"/></a>"
      ]
    },
    {
      "cell_type": "markdown",
      "metadata": {
        "id": "lpbJy46_3fG7"
      },
      "source": [
        "#**Importing**"
      ]
    },
    {
      "cell_type": "code",
      "metadata": {
        "id": "lo0YEnQA3KxJ"
      },
      "source": [
        "import pandas as pd\n",
        "import sklearn\n",
        "import time\n",
        "from sklearn.model_selection import train_test_split\n",
        "import joblib"
      ],
      "execution_count": null,
      "outputs": []
    },
    {
      "cell_type": "markdown",
      "metadata": {
        "id": "eG8lUcyxWfzD"
      },
      "source": [
        "#**Models Import**"
      ]
    },
    {
      "cell_type": "code",
      "metadata": {
        "id": "n40Pu9N-WfzD"
      },
      "source": [
        "from sklearn.linear_model import LogisticRegression\n",
        "from sklearn.naive_bayes import GaussianNB\n",
        "from sklearn.ensemble import RandomForestClassifier\n",
        "from sklearn import tree\n",
        "from sklearn.svm import SVC"
      ],
      "execution_count": null,
      "outputs": []
    },
    {
      "cell_type": "markdown",
      "metadata": {
        "id": "aV9soTmSWgTq"
      },
      "source": [
        "#**Train Test & Samples**"
      ]
    },
    {
      "cell_type": "code",
      "metadata": {
        "id": "0jzX7U7zWgTr"
      },
      "source": [
        "X_train,X_test,y_train,y_test = train_test_split(train_set.drop('IsCorrect',axis=1),train_set['IsCorrect'])\n",
        "\n",
        "X_train,y_train=train_df.drop('IsCorrect',axis=1),train_df['IsCorrect']\n",
        "X_test,y_test=test_df.drop('IsCorrect',axis=1),test_df['IsCorrect']\n",
        "\n",
        "train_sample=train_df.sample(80000)\n",
        "test_sample=test_df.sample(20000)\n",
        "\n",
        "X_train_sa,y_train_sa=train_sample.drop('IsCorrect',axis=1),train_sample['IsCorrect']\n",
        "X_test_sa,y_test_sa=test_sample.drop('IsCorrect',axis=1),test_sample['IsCorrect']\n"
      ],
      "execution_count": null,
      "outputs": []
    },
    {
      "cell_type": "markdown",
      "metadata": {
        "id": "Ca5BHivzXERq"
      },
      "source": [
        "# **Time Calculate**"
      ]
    },
    {
      "cell_type": "code",
      "metadata": {
        "id": "-IlIx-ypXERr"
      },
      "source": [
        "# in Seconds\n",
        "s=time.time()\n",
        "\n",
        "e=time.time()\n",
        "print('Time to train : '+str(round(e-s,4))+' S')"
      ],
      "execution_count": null,
      "outputs": []
    },
    {
      "cell_type": "markdown",
      "metadata": {
        "id": "m7fDKvWD3hg7"
      },
      "source": [
        "# **Functions**"
      ]
    },
    {
      "cell_type": "code",
      "metadata": {
        "id": "wVr4su153hpH"
      },
      "source": [
        "pd.read_csv('/content/drive/MyDrive/ML Projects/test.csv')"
      ],
      "execution_count": null,
      "outputs": []
    },
    {
      "cell_type": "code",
      "metadata": {
        "id": "TrHNaqYz3hwr"
      },
      "source": [
        "model.fit(X_train,y_train)"
      ],
      "execution_count": null,
      "outputs": []
    },
    {
      "cell_type": "code",
      "metadata": {
        "id": "G2aaYsnn3h4r"
      },
      "source": [
        "model.score(X_test,y_test)"
      ],
      "execution_count": null,
      "outputs": []
    },
    {
      "cell_type": "code",
      "metadata": {
        "id": "n26AzZVq3iAT"
      },
      "source": [
        "joblib.dump(model1,'model file logistic regression')"
      ],
      "execution_count": null,
      "outputs": []
    },
    {
      "cell_type": "code",
      "metadata": {
        "id": "gvWA-1aC3iNy"
      },
      "source": [
        "model1 = model.load('/content/drive/MyDrive/ML Projects/model file logistic regression')"
      ],
      "execution_count": null,
      "outputs": []
    }
  ]
}